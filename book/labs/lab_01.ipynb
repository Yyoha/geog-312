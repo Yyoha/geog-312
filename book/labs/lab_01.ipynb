{
  "cells": [
    {
      "cell_type": "markdown",
      "id": "0",
      "metadata": {
        "id": "0"
      },
      "source": [
        "# Lab 1\n",
        "\n",
        "[![Open In Colab](https://colab.research.google.com/assets/colab-badge.svg)](https://colab.research.google.com/github/giswqs/geog-312/blob/main/book/labs/lab_01.ipynb)"
      ]
    },
    {
      "cell_type": "markdown",
      "id": "1",
      "metadata": {
        "id": "1"
      },
      "source": [
        "## Exercise 1: Variable Assignment and Basic Operations\n",
        "\n",
        "Create variables to store the following geospatial data:\n",
        "\n",
        "- The latitude and longitude of New York City: 40.7128, -74.0060.\n",
        "- The population of New York City: 8,336,817.\n",
        "- The area of New York City in square kilometers: 783.8.\n",
        "\n",
        "Perform the following tasks:\n",
        "\n",
        "1. Calculate and print the population density of New York City (population per square kilometer).\n",
        "2. Print the coordinates in the format \"Latitude: [latitude], Longitude: [longitude]\"."
      ]
    },
    {
      "cell_type": "code",
      "execution_count": 7,
      "id": "2",
      "metadata": {
        "id": "2"
      },
      "outputs": [],
      "source": [
        "latitude=40.7128\n",
        "longitude=-74.0060"
      ]
    },
    {
      "cell_type": "code",
      "source": [
        "population=8336817"
      ],
      "metadata": {
        "id": "KSrGxZeKTnb-"
      },
      "id": "KSrGxZeKTnb-",
      "execution_count": 3,
      "outputs": []
    },
    {
      "cell_type": "code",
      "source": [
        "area=783.8"
      ],
      "metadata": {
        "id": "1F0LwcXfTux1"
      },
      "id": "1F0LwcXfTux1",
      "execution_count": 4,
      "outputs": []
    },
    {
      "cell_type": "code",
      "source": [
        "print(population/area)"
      ],
      "metadata": {
        "id": "H_B73p1JT1Y6",
        "outputId": "161d6582-2b56-4c89-a3db-22aa5282c9d9",
        "colab": {
          "base_uri": "https://localhost:8080/"
        }
      },
      "id": "H_B73p1JT1Y6",
      "execution_count": 5,
      "outputs": [
        {
          "output_type": "stream",
          "name": "stdout",
          "text": [
            "10636.408522582293\n"
          ]
        }
      ]
    },
    {
      "cell_type": "code",
      "source": [
        "print(f'Latitude:{latitude},Longitude:{longitude}')"
      ],
      "metadata": {
        "id": "061jyJSnT8jp",
        "outputId": "04185e8f-b4b9-4ce1-f62f-b352c99b5d64",
        "colab": {
          "base_uri": "https://localhost:8080/"
        }
      },
      "id": "061jyJSnT8jp",
      "execution_count": 8,
      "outputs": [
        {
          "output_type": "stream",
          "name": "stdout",
          "text": [
            "Latitude:40.7128,Longitude:-74.006\n"
          ]
        }
      ]
    },
    {
      "cell_type": "markdown",
      "id": "3",
      "metadata": {
        "id": "3"
      },
      "source": [
        "## Exercise 2: Working with Strings\n",
        "\n",
        "Create a string variable to store the name of a city, such as \"San Francisco\". Perform the following operations:\n",
        "\n",
        "1. Convert the string to lowercase and print the result.\n",
        "2. Convert the string to uppercase and print the result.\n",
        "3. Replace \"San\" with \"Los\" in the city name and print the new string."
      ]
    },
    {
      "cell_type": "code",
      "execution_count": 9,
      "id": "4",
      "metadata": {
        "id": "4"
      },
      "outputs": [],
      "source": [
        "name=\"San Francisco\""
      ]
    },
    {
      "cell_type": "code",
      "source": [
        "print(str.lower(name))"
      ],
      "metadata": {
        "id": "jrEUl-AQUYjl",
        "outputId": "398c0d57-d8e3-4ee8-c5b4-423a764c1fcc",
        "colab": {
          "base_uri": "https://localhost:8080/"
        }
      },
      "id": "jrEUl-AQUYjl",
      "execution_count": 10,
      "outputs": [
        {
          "output_type": "stream",
          "name": "stdout",
          "text": [
            "san francisco\n"
          ]
        }
      ]
    },
    {
      "cell_type": "code",
      "source": [
        "print(str.upper(name))"
      ],
      "metadata": {
        "id": "w7QeE5ZVXa4G",
        "outputId": "5860d7a9-8504-457e-9b0d-0c7b806810f6",
        "colab": {
          "base_uri": "https://localhost:8080/"
        }
      },
      "id": "w7QeE5ZVXa4G",
      "execution_count": 18,
      "outputs": [
        {
          "output_type": "stream",
          "name": "stdout",
          "text": [
            "SAN FRANCISCO\n"
          ]
        }
      ]
    },
    {
      "cell_type": "code",
      "source": [
        "print(name.replace(\"San\",\"Los\"))"
      ],
      "metadata": {
        "id": "EHvADol4XdeH",
        "outputId": "7afa5a77-5fdb-4fd6-dca4-db5d1f972a06",
        "colab": {
          "base_uri": "https://localhost:8080/"
        }
      },
      "id": "EHvADol4XdeH",
      "execution_count": 20,
      "outputs": [
        {
          "output_type": "stream",
          "name": "stdout",
          "text": [
            "Los Francisco\n"
          ]
        }
      ]
    },
    {
      "cell_type": "markdown",
      "id": "5",
      "metadata": {
        "id": "5"
      },
      "source": [
        "## Exercise 3: Using Lists\n",
        "\n",
        "Create a list of tuples, where each tuple contains the name of a city and its corresponding latitude and longitude:\n",
        "\n",
        "- New York City: (40.7128, -74.0060)\n",
        "- Los Angeles: (34.0522, -118.2437)\n",
        "- Chicago: (41.8781, -87.6298)\n",
        "\n",
        "Perform the following tasks:\n",
        "\n",
        "1. Add a new city (e.g., Miami: (25.7617, -80.1918)) to the list.\n",
        "2. Print the entire list of cities.\n",
        "3. Slice the list to print only the first two cities."
      ]
    },
    {
      "cell_type": "code",
      "source": [
        "lst=[\n",
        "    [\"New York City:\",40.7128,-74.0060],\n",
        "    [\"Loa Angeles:\",34.0522,-118.2437],\n",
        "    [\"Chicago:\",41.8781,-87.6298]\n",
        "]"
      ],
      "metadata": {
        "id": "2Dw7huDaXZQB"
      },
      "id": "2Dw7huDaXZQB",
      "execution_count": 21,
      "outputs": []
    },
    {
      "cell_type": "code",
      "execution_count": 23,
      "id": "6",
      "metadata": {
        "id": "6",
        "outputId": "0f9ed59f-4ed8-49e3-b89b-7ab0afb1579c",
        "colab": {
          "base_uri": "https://localhost:8080/"
        }
      },
      "outputs": [
        {
          "output_type": "execute_result",
          "data": {
            "text/plain": [
              "[['New York City:', 40.7128, -74.006],\n",
              " ['Loa Angeles:', 34.0522, -118.2437],\n",
              " ['Chicago:', 41.8781, -87.6298]]"
            ]
          },
          "metadata": {},
          "execution_count": 23
        }
      ],
      "source": [
        "lst"
      ]
    },
    {
      "cell_type": "code",
      "source": [
        "lst.append([\"Miami:\",25.7617,-80.1918])"
      ],
      "metadata": {
        "id": "2C8xoo15ZbtW",
        "outputId": "38034552-5179-4021-ec31-af6e398b3a66",
        "colab": {
          "base_uri": "https://localhost:8080/"
        }
      },
      "id": "2C8xoo15ZbtW",
      "execution_count": 48,
      "outputs": [
        {
          "output_type": "stream",
          "name": "stdout",
          "text": [
            "None\n"
          ]
        }
      ]
    },
    {
      "cell_type": "code",
      "source": [
        "lst"
      ],
      "metadata": {
        "id": "tfz73hLjaQrQ",
        "outputId": "dc387f9f-c0a3-4458-8164-3862ca366ebe",
        "colab": {
          "base_uri": "https://localhost:8080/"
        }
      },
      "id": "tfz73hLjaQrQ",
      "execution_count": 49,
      "outputs": [
        {
          "output_type": "execute_result",
          "data": {
            "text/plain": [
              "[['New York City:', 40.7128, -74.006],\n",
              " ['Loa Angeles:', 34.0522, -118.2437],\n",
              " ['Chicago:', 41.8781, -87.6298],\n",
              " 'Miami:',\n",
              " 25.7617,\n",
              " -80.1918,\n",
              " ('Miami:', 25.7617, -80.1918),\n",
              " ['Miami:', 25.7617, -80.1918],\n",
              " ['Miami:', 25.7617, -80.1918],\n",
              " ['Miami:', 25.7617, -80.1918]]"
            ]
          },
          "metadata": {},
          "execution_count": 49
        }
      ]
    },
    {
      "cell_type": "markdown",
      "id": "7",
      "metadata": {
        "id": "7"
      },
      "source": [
        "## Exercise 4: Using Tuples\n",
        "\n",
        "Create a tuple to store the coordinates (latitude, longitude) of the Eiffel Tower: (48.8584, 2.2945). Perform the following tasks:\n",
        "\n",
        "1. Access and print the latitude and longitude values from the tuple.\n",
        "2. Try to change the latitude value to 48.8585. What happens? Explain why."
      ]
    },
    {
      "cell_type": "code",
      "execution_count": 36,
      "id": "8",
      "metadata": {
        "id": "8"
      },
      "outputs": [],
      "source": [
        "tup=(48.8584,2.2945)"
      ]
    },
    {
      "cell_type": "code",
      "source": [
        "tup"
      ],
      "metadata": {
        "id": "4ZphaimhaoNd",
        "outputId": "64da5ae3-5c9d-418b-f899-0fc7e62e5e79",
        "colab": {
          "base_uri": "https://localhost:8080/"
        }
      },
      "id": "4ZphaimhaoNd",
      "execution_count": 37,
      "outputs": [
        {
          "output_type": "execute_result",
          "data": {
            "text/plain": [
              "(48.8584, 2.2945)"
            ]
          },
          "metadata": {},
          "execution_count": 37
        }
      ]
    },
    {
      "cell_type": "code",
      "source": [
        "tup=(48.8585,2.2945)"
      ],
      "metadata": {
        "id": "-D_ALymcao6S"
      },
      "id": "-D_ALymcao6S",
      "execution_count": 39,
      "outputs": []
    },
    {
      "cell_type": "code",
      "source": [
        "print(tup)"
      ],
      "metadata": {
        "id": "4lyc4YDCa20S",
        "outputId": "d9c45387-47f1-45a6-fc84-385dfd4f990d",
        "colab": {
          "base_uri": "https://localhost:8080/"
        }
      },
      "id": "4lyc4YDCa20S",
      "execution_count": 46,
      "outputs": [
        {
          "output_type": "stream",
          "name": "stdout",
          "text": [
            "(48.8585, 2.2945)\n"
          ]
        }
      ]
    },
    {
      "cell_type": "markdown",
      "id": "9",
      "metadata": {
        "id": "9"
      },
      "source": [
        "## Exercise 5: Working with Sets\n",
        "\n",
        "Create a set of countries you have visited, such as {\"USA\", \"France\", \"Germany\"}. Perform the following tasks:\n",
        "\n",
        "1. Add a new country to the set.\n",
        "2. Try to add the same country again. What happens?\n",
        "3. Print the updated set."
      ]
    },
    {
      "cell_type": "code",
      "source": [
        "set={\"China\",\"USA\",\"Japan\"}"
      ],
      "metadata": {
        "id": "sIi5uQu-anYe"
      },
      "id": "sIi5uQu-anYe",
      "execution_count": 41,
      "outputs": []
    },
    {
      "cell_type": "code",
      "execution_count": 53,
      "id": "10",
      "metadata": {
        "id": "10",
        "outputId": "4bd69688-3002-4c3a-fecc-c06bdc1ca3b7",
        "colab": {
          "base_uri": "https://localhost:8080/"
        }
      },
      "outputs": [
        {
          "output_type": "stream",
          "name": "stdout",
          "text": [
            "{'China', 'USA', 'Japan'}\n"
          ]
        }
      ],
      "source": [
        "print(set)"
      ]
    },
    {
      "cell_type": "code",
      "source": [
        "set.add(\"USA\")"
      ],
      "metadata": {
        "id": "syhK0DABbHmR"
      },
      "id": "syhK0DABbHmR",
      "execution_count": 51,
      "outputs": []
    },
    {
      "cell_type": "code",
      "source": [
        "print(set)"
      ],
      "metadata": {
        "id": "oAOt2xCJbrnp",
        "outputId": "387601d8-f024-4beb-d886-8be83ada6062",
        "colab": {
          "base_uri": "https://localhost:8080/"
        }
      },
      "id": "oAOt2xCJbrnp",
      "execution_count": 52,
      "outputs": [
        {
          "output_type": "stream",
          "name": "stdout",
          "text": [
            "{'China', 'USA', 'Japan'}\n"
          ]
        }
      ]
    },
    {
      "cell_type": "markdown",
      "id": "11",
      "metadata": {
        "id": "11"
      },
      "source": [
        "## Exercise 6: Working with Dictionaries\n",
        "\n",
        "Create a dictionary to store information about a specific geospatial feature, such as a river:\n",
        "\n",
        "- Name: \"Amazon River\"\n",
        "- Length: 6400 km\n",
        "- Countries: [\"Brazil\", \"Peru\", \"Colombia\"]\n",
        "\n",
        "Perform the following tasks:\n",
        "\n",
        "1. Add a new key-value pair to the dictionary to store the river's average discharge (e.g., 209,000 m³/s).\n",
        "2. Update the length of the river to 6992 km.\n",
        "3. Print the dictionary."
      ]
    },
    {
      "cell_type": "code",
      "execution_count": 54,
      "id": "12",
      "metadata": {
        "id": "12"
      },
      "outputs": [],
      "source": [
        "dic={\n",
        "    \"Name\":\"Amazon River\",\n",
        "    \"Length\":\"6400km\",\n",
        "    \"Countries\": [\"Brazil\", \"Peru\", \"Colombia\"]\n",
        "}"
      ]
    },
    {
      "cell_type": "code",
      "source": [
        "dic"
      ],
      "metadata": {
        "id": "pf2RfNFwfAlS",
        "outputId": "4b4d5b8f-78eb-464b-dc16-4dd1ad6a32b9",
        "colab": {
          "base_uri": "https://localhost:8080/"
        }
      },
      "id": "pf2RfNFwfAlS",
      "execution_count": 55,
      "outputs": [
        {
          "output_type": "execute_result",
          "data": {
            "text/plain": [
              "{'Name': 'Amazon River',\n",
              " 'Length': '6400km',\n",
              " 'Countries': ['Brazil', 'Peru', 'Colombia']}"
            ]
          },
          "metadata": {},
          "execution_count": 55
        }
      ]
    },
    {
      "cell_type": "code",
      "source": [
        "dic[\"Average Discharge\"]=\"209,000m³/s\""
      ],
      "metadata": {
        "id": "yM6oukTEfBU1"
      },
      "id": "yM6oukTEfBU1",
      "execution_count": 56,
      "outputs": []
    },
    {
      "cell_type": "code",
      "source": [
        "dic"
      ],
      "metadata": {
        "id": "pDq6ZdSCfdFh",
        "outputId": "95aa48b5-aacd-4476-a103-74e12303c279",
        "colab": {
          "base_uri": "https://localhost:8080/"
        }
      },
      "id": "pDq6ZdSCfdFh",
      "execution_count": 57,
      "outputs": [
        {
          "output_type": "execute_result",
          "data": {
            "text/plain": [
              "{'Name': 'Amazon River',\n",
              " 'Length': '6400km',\n",
              " 'Countries': ['Brazil', 'Peru', 'Colombia'],\n",
              " 'Average Discharge': '209,000m³/s'}"
            ]
          },
          "metadata": {},
          "execution_count": 57
        }
      ]
    },
    {
      "cell_type": "code",
      "source": [
        "dic[\"Length\"]=\"6992km\""
      ],
      "metadata": {
        "id": "6COrJiPYfeI1"
      },
      "id": "6COrJiPYfeI1",
      "execution_count": 58,
      "outputs": []
    },
    {
      "cell_type": "code",
      "source": [
        "dic"
      ],
      "metadata": {
        "id": "Mel1csXjf23Q",
        "outputId": "14147520-27bf-482b-b3ce-299d249d2758",
        "colab": {
          "base_uri": "https://localhost:8080/"
        }
      },
      "id": "Mel1csXjf23Q",
      "execution_count": 59,
      "outputs": [
        {
          "output_type": "execute_result",
          "data": {
            "text/plain": [
              "{'Name': 'Amazon River',\n",
              " 'Length': '6992km',\n",
              " 'Countries': ['Brazil', 'Peru', 'Colombia'],\n",
              " 'Average Discharge': '209,000m³/s'}"
            ]
          },
          "metadata": {},
          "execution_count": 59
        }
      ]
    },
    {
      "cell_type": "markdown",
      "id": "13",
      "metadata": {
        "id": "13"
      },
      "source": [
        "## Exercise 7: Nested Data Structures\n",
        "\n",
        "Create a dictionary to represent a city that contains the city's name, population, and coordinates (latitude, longitude):\n",
        "\n",
        "- Name: \"Tokyo\"\n",
        "- Population: 13,515,271\n",
        "- Coordinates: (35.6895, 139.6917)\n",
        "\n",
        "Perform the following tasks:\n",
        "\n",
        "1. Access and print the population of the city.\n",
        "2. Access and print the city's latitude.\n",
        "3. Update the population to 14,000,000 and print the updated dictionary."
      ]
    },
    {
      "cell_type": "code",
      "execution_count": 74,
      "id": "14",
      "metadata": {
        "id": "14"
      },
      "outputs": [],
      "source": [
        "nest={\n",
        "    \"Name\":\"Tokyo\",\n",
        "    \"Population\":\"13,515,271\",\n",
        "    \"Coordinates\":(35.6895,139.6917)\n",
        "}"
      ]
    },
    {
      "cell_type": "code",
      "source": [
        "nest"
      ],
      "metadata": {
        "id": "jXNUH5pygOdr",
        "outputId": "407ab17e-c2e9-494a-ba8b-862bf84a8673",
        "colab": {
          "base_uri": "https://localhost:8080/"
        }
      },
      "id": "jXNUH5pygOdr",
      "execution_count": 73,
      "outputs": [
        {
          "output_type": "execute_result",
          "data": {
            "text/plain": [
              "{'Name': 'Tokyo',\n",
              " 'Population': '13,515,271',\n",
              " 'Coordinates': (35.6895, 139.6917)}"
            ]
          },
          "metadata": {},
          "execution_count": 73
        }
      ]
    },
    {
      "cell_type": "code",
      "source": [
        "nest.get(\"Population\")"
      ],
      "metadata": {
        "id": "t46PsRjTgQz6",
        "outputId": "5bd44917-e5ee-42bc-e8bb-a403b739baea",
        "colab": {
          "base_uri": "https://localhost:8080/",
          "height": 35
        }
      },
      "id": "t46PsRjTgQz6",
      "execution_count": 71,
      "outputs": [
        {
          "output_type": "execute_result",
          "data": {
            "text/plain": [
              "'13,515,271'"
            ],
            "application/vnd.google.colaboratory.intrinsic+json": {
              "type": "string"
            }
          },
          "metadata": {},
          "execution_count": 71
        }
      ]
    },
    {
      "cell_type": "code",
      "source": [
        "nest['Coordinates'][0]"
      ],
      "metadata": {
        "id": "zNR4Bu4AgZ6O",
        "outputId": "43b160aa-3ced-4072-8b96-c625aa94a36e",
        "colab": {
          "base_uri": "https://localhost:8080/"
        }
      },
      "id": "zNR4Bu4AgZ6O",
      "execution_count": 76,
      "outputs": [
        {
          "output_type": "execute_result",
          "data": {
            "text/plain": [
              "35.6895"
            ]
          },
          "metadata": {},
          "execution_count": 76
        }
      ]
    },
    {
      "cell_type": "code",
      "source": [
        "nest[\"Population\"]=\"14,000,000\""
      ],
      "metadata": {
        "id": "5_Mlso-egwLT"
      },
      "id": "5_Mlso-egwLT",
      "execution_count": 65,
      "outputs": []
    },
    {
      "cell_type": "code",
      "source": [
        "nest"
      ],
      "metadata": {
        "id": "oaGrLgrLg8gf",
        "outputId": "ee736bbe-c32f-46c6-bd84-99ac23867392",
        "colab": {
          "base_uri": "https://localhost:8080/"
        }
      },
      "id": "oaGrLgrLg8gf",
      "execution_count": 66,
      "outputs": [
        {
          "output_type": "execute_result",
          "data": {
            "text/plain": [
              "{'Name': 'Tokyo',\n",
              " 'Population': '14,000,000',\n",
              " 'Coordinates': (35.6895, 139.6917)}"
            ]
          },
          "metadata": {},
          "execution_count": 66
        }
      ]
    },
    {
      "cell_type": "markdown",
      "id": "15",
      "metadata": {
        "id": "15"
      },
      "source": [
        "## Exercise 8: List Operations\n",
        "\n",
        "Given the list of cities from Exercise 3, perform the following operations:\n",
        "\n",
        "1. Sort the list of cities alphabetically by name.\n",
        "2. Create a new list that contains only the city names.\n",
        "3. Remove the last city from the original list and print the updated list."
      ]
    },
    {
      "cell_type": "code",
      "execution_count": null,
      "id": "16",
      "metadata": {
        "id": "16"
      },
      "outputs": [],
      "source": [
        "lst.sort(key=Name)"
      ]
    },
    {
      "cell_type": "markdown",
      "id": "17",
      "metadata": {
        "id": "17"
      },
      "source": [
        "## Exercise 9: Dictionary Operations\n",
        "\n",
        "Using the dictionary from Exercise 6, perform the following tasks:\n",
        "\n",
        "1. Check if the key \"Length\" exists in the dictionary.\n",
        "2. Print all the keys in the dictionary.\n",
        "3. Print all the values in the dictionary."
      ]
    },
    {
      "cell_type": "code",
      "execution_count": null,
      "id": "18",
      "metadata": {
        "id": "18"
      },
      "outputs": [],
      "source": []
    },
    {
      "cell_type": "markdown",
      "id": "19",
      "metadata": {
        "id": "19"
      },
      "source": [
        "## Exercise 10: Practical Application\n",
        "\n",
        "Imagine you have a list of tuples, each representing a location with its name, latitude, and longitude:"
      ]
    },
    {
      "cell_type": "code",
      "execution_count": null,
      "id": "20",
      "metadata": {
        "id": "20"
      },
      "outputs": [],
      "source": [
        "locations = [\n",
        "    (\"Mount Everest\", 27.9881, 86.9250),\n",
        "    (\"K2\", 35.8808, 76.5155),\n",
        "    (\"Kangchenjunga\", 27.7025, 88.1475),\n",
        "]"
      ]
    },
    {
      "cell_type": "markdown",
      "id": "21",
      "metadata": {
        "id": "21"
      },
      "source": [
        "Perform the following tasks:\n",
        "\n",
        "1. Create a new list that contains only the names of the locations.\n",
        "2. Create a dictionary where the keys are location names and the values are tuples of their coordinates.\n",
        "3. Print the latitude of \"K2\" using the dictionary."
      ]
    },
    {
      "cell_type": "code",
      "execution_count": null,
      "id": "22",
      "metadata": {
        "id": "22"
      },
      "outputs": [],
      "source": []
    }
  ],
  "metadata": {
    "kernelspec": {
      "display_name": "Python 3",
      "language": "python",
      "name": "python3"
    },
    "language_info": {
      "codemirror_mode": {
        "name": "ipython",
        "version": 3
      },
      "file_extension": ".py",
      "mimetype": "text/x-python",
      "name": "python",
      "nbconvert_exporter": "python",
      "pygments_lexer": "ipython3",
      "version": "3.11.8"
    },
    "colab": {
      "provenance": []
    }
  },
  "nbformat": 4,
  "nbformat_minor": 5
}